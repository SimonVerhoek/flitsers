{
 "cells": [
  {
   "cell_type": "code",
   "execution_count": 8,
   "id": "initial_id",
   "metadata": {
    "collapsed": true,
    "ExecuteTime": {
     "end_time": "2023-10-09T10:01:32.823965Z",
     "start_time": "2023-10-09T10:01:32.815945Z"
    }
   },
   "outputs": [],
   "source": [
    "import pandas as pd"
   ]
  },
  {
   "cell_type": "code",
   "execution_count": 10,
   "outputs": [],
   "source": [
    "df = pd.read_parquet(\"../data/flitsers.parquet\")"
   ],
   "metadata": {
    "collapsed": false,
    "ExecuteTime": {
     "end_time": "2023-10-09T11:48:04.840844Z",
     "start_time": "2023-10-09T11:48:04.741030Z"
    }
   },
   "id": "a06a4786e25f10c2"
  },
  {
   "cell_type": "code",
   "execution_count": 11,
   "outputs": [
    {
     "name": "stdout",
     "output_type": "stream",
     "text": [
      "(93412, 27)\n"
     ]
    },
    {
     "data": {
      "text/plain": "     id       datum soort_weg wegnummer   zijde hm_paal type_controle  \\\n54   55  2016-01-14      nweg      N321   beide     5,5         Radar   \n55  272  2016-01-20      nweg      N204   beide    19.0         Laser   \n58   58  2016-01-15      nweg      N359   beide    43,9         Radar   \n59   59  2016-01-15   snelweg        A1  rechts   110,8         Radar   \n60   60  2016-01-15      nweg       N50   beide   249,7         Radar   \n\n       tijd_van_melden                                details  \\\n54 2016-01-14 20:38:10   bij esso tankstation door vw bus\\r\\n   \n55 2016-01-20 15:19:54                                   \\r\\n   \n58 2016-01-15 07:21:17          bij afslag bolsward-noord\\r\\n   \n59 2016-01-15 07:25:13                                   \\r\\n   \n60 2016-01-15 07:52:22                    in parkeerhaven\\r\\n   \n\n        laatste_activiteit  ... weer_temp_min  weer_luchtdruk_hpa  \\\n54 2016-01-14 23:57:03.222  ...           NaN                 NaN   \n55 2016-01-20 20:57:08.767  ...           NaN                 NaN   \n58 2016-01-15 17:47:11.955  ...           NaN                 NaN   \n59 2016-01-15 17:47:02.860  ...           NaN                 NaN   \n60 2016-01-15 17:47:07.290  ...           NaN                 NaN   \n\n    weer_luchtvochtigheid_procent weer_windsnelheid_m_per_sec  \\\n54                            NaN                         NaN   \n55                            NaN                         NaN   \n58                            NaN                         NaN   \n59                            NaN                         NaN   \n60                            NaN                         NaN   \n\n   weer_windrichting_graden  weer_bewolking_procent  weer_regen_mm  \\\n54                      NaN                     NaN            NaN   \n55                      NaN                     NaN            NaN   \n58                      NaN                     NaN            NaN   \n59                      NaN                     NaN            NaN   \n60                      NaN                     NaN            NaN   \n\n    weer_sneeuw_mm  weer_zonnestand  weer_locatie_naam  \n54             NaN             None               None  \n55             NaN             None               None  \n58             NaN             None               None  \n59             NaN             None               None  \n60             NaN             None               None  \n\n[5 rows x 27 columns]",
      "text/html": "<div>\n<style scoped>\n    .dataframe tbody tr th:only-of-type {\n        vertical-align: middle;\n    }\n\n    .dataframe tbody tr th {\n        vertical-align: top;\n    }\n\n    .dataframe thead th {\n        text-align: right;\n    }\n</style>\n<table border=\"1\" class=\"dataframe\">\n  <thead>\n    <tr style=\"text-align: right;\">\n      <th></th>\n      <th>id</th>\n      <th>datum</th>\n      <th>soort_weg</th>\n      <th>wegnummer</th>\n      <th>zijde</th>\n      <th>hm_paal</th>\n      <th>type_controle</th>\n      <th>tijd_van_melden</th>\n      <th>details</th>\n      <th>laatste_activiteit</th>\n      <th>...</th>\n      <th>weer_temp_min</th>\n      <th>weer_luchtdruk_hpa</th>\n      <th>weer_luchtvochtigheid_procent</th>\n      <th>weer_windsnelheid_m_per_sec</th>\n      <th>weer_windrichting_graden</th>\n      <th>weer_bewolking_procent</th>\n      <th>weer_regen_mm</th>\n      <th>weer_sneeuw_mm</th>\n      <th>weer_zonnestand</th>\n      <th>weer_locatie_naam</th>\n    </tr>\n  </thead>\n  <tbody>\n    <tr>\n      <th>54</th>\n      <td>55</td>\n      <td>2016-01-14</td>\n      <td>nweg</td>\n      <td>N321</td>\n      <td>beide</td>\n      <td>5,5</td>\n      <td>Radar</td>\n      <td>2016-01-14 20:38:10</td>\n      <td>bij esso tankstation door vw bus\\r\\n</td>\n      <td>2016-01-14 23:57:03.222</td>\n      <td>...</td>\n      <td>NaN</td>\n      <td>NaN</td>\n      <td>NaN</td>\n      <td>NaN</td>\n      <td>NaN</td>\n      <td>NaN</td>\n      <td>NaN</td>\n      <td>NaN</td>\n      <td>None</td>\n      <td>None</td>\n    </tr>\n    <tr>\n      <th>55</th>\n      <td>272</td>\n      <td>2016-01-20</td>\n      <td>nweg</td>\n      <td>N204</td>\n      <td>beide</td>\n      <td>19.0</td>\n      <td>Laser</td>\n      <td>2016-01-20 15:19:54</td>\n      <td>\\r\\n</td>\n      <td>2016-01-20 20:57:08.767</td>\n      <td>...</td>\n      <td>NaN</td>\n      <td>NaN</td>\n      <td>NaN</td>\n      <td>NaN</td>\n      <td>NaN</td>\n      <td>NaN</td>\n      <td>NaN</td>\n      <td>NaN</td>\n      <td>None</td>\n      <td>None</td>\n    </tr>\n    <tr>\n      <th>58</th>\n      <td>58</td>\n      <td>2016-01-15</td>\n      <td>nweg</td>\n      <td>N359</td>\n      <td>beide</td>\n      <td>43,9</td>\n      <td>Radar</td>\n      <td>2016-01-15 07:21:17</td>\n      <td>bij afslag bolsward-noord\\r\\n</td>\n      <td>2016-01-15 17:47:11.955</td>\n      <td>...</td>\n      <td>NaN</td>\n      <td>NaN</td>\n      <td>NaN</td>\n      <td>NaN</td>\n      <td>NaN</td>\n      <td>NaN</td>\n      <td>NaN</td>\n      <td>NaN</td>\n      <td>None</td>\n      <td>None</td>\n    </tr>\n    <tr>\n      <th>59</th>\n      <td>59</td>\n      <td>2016-01-15</td>\n      <td>snelweg</td>\n      <td>A1</td>\n      <td>rechts</td>\n      <td>110,8</td>\n      <td>Radar</td>\n      <td>2016-01-15 07:25:13</td>\n      <td>\\r\\n</td>\n      <td>2016-01-15 17:47:02.860</td>\n      <td>...</td>\n      <td>NaN</td>\n      <td>NaN</td>\n      <td>NaN</td>\n      <td>NaN</td>\n      <td>NaN</td>\n      <td>NaN</td>\n      <td>NaN</td>\n      <td>NaN</td>\n      <td>None</td>\n      <td>None</td>\n    </tr>\n    <tr>\n      <th>60</th>\n      <td>60</td>\n      <td>2016-01-15</td>\n      <td>nweg</td>\n      <td>N50</td>\n      <td>beide</td>\n      <td>249,7</td>\n      <td>Radar</td>\n      <td>2016-01-15 07:52:22</td>\n      <td>in parkeerhaven\\r\\n</td>\n      <td>2016-01-15 17:47:07.290</td>\n      <td>...</td>\n      <td>NaN</td>\n      <td>NaN</td>\n      <td>NaN</td>\n      <td>NaN</td>\n      <td>NaN</td>\n      <td>NaN</td>\n      <td>NaN</td>\n      <td>NaN</td>\n      <td>None</td>\n      <td>None</td>\n    </tr>\n  </tbody>\n</table>\n<p>5 rows × 27 columns</p>\n</div>"
     },
     "execution_count": 11,
     "metadata": {},
     "output_type": "execute_result"
    }
   ],
   "source": [
    "print(df.shape)\n",
    "df.head()"
   ],
   "metadata": {
    "collapsed": false,
    "ExecuteTime": {
     "end_time": "2023-10-09T11:48:06.497493Z",
     "start_time": "2023-10-09T11:48:06.484868Z"
    }
   },
   "id": "19c066e10e842dbd"
  },
  {
   "cell_type": "code",
   "execution_count": 12,
   "outputs": [
    {
     "data": {
      "text/plain": "array(['N321', 'N204', 'N359', 'A1', 'N50', 'N706', 'N361', 'A27', 'N235',\n       'N225', 'A13', 'N278', 'A15', 'A28', 'N355', 'N292', 'N35', 'N271',\n       'N737', 'N46', 'A7', 'A12', 'N31', 'A9', 'N842', 'N208', 'N701',\n       'A4', 'N804', 'N203', 'A2', 'N348', 'N227', 'N351', 'N302', 'N233',\n       'N516', 'N205', 'A58', 'A6', 'N325', 'N221', 'N200', 'N201',\n       'N207', 'N702', 'A44', 'N33', 'N7', 'N230', 'A50', 'N11', 'A76',\n       'N306', 'N282', 'N210', 'N263', 'N309', 'N636', 'N360', 'N242',\n       'N506', 'N703', 'A67', 'N260', 'N247', 'N344', 'N346', 'N218',\n       'N289', 'N275', 'N750', 'N18', 'N212', 'N343', 'N340', 'N298',\n       'N349', 'N502', 'N209', 'N219', 'A8', 'N34', 'N839', 'N310',\n       'N224', 'N370', 'N211', 'N69', 'N270', 'N244', 'A16', 'N784',\n       'A20', 'N279', 'N341', 'N241', 'A73', 'N9', 'A200', 'N226', 'N297',\n       'N36', 'N377', 'N314', 'N376', 'N316', 'N261', 'N803', 'N476',\n       'N347', 'N44', 'N99', 'N337', 'N665', 'N837', 'N245', 'N570',\n       'N484', 'N315', 'N738', 'N748', 'N336', 'N65', 'A79', 'N206',\n       'N524', 'N369', 'N388', 'N237', 'N919', 'A59', 'A5', 'N331',\n       'N253', 'N795', 'N358', 'N246', 'N280', 'N296', 'N240', 'N256',\n       'N501', 'N630', 'A30', 'N3', 'N277', 'A325', 'N766', 'N269',\n       'N299', 'N597', 'N273', 'N307', 'N391', 'N746', 'N249', 'N396',\n       'N319', 'N493', 'N334', 'N395', 'N231', 'N264', 'N338', 'N751',\n       'N711', 'N57', 'A37', 'N303', 'N202', 'N196', 'N381', 'N918',\n       'N274', 'N712', 'N551', 'N375', 'A32', 'N445', 'A29', 'N371',\n       'N408', 'N455', 'N357', 'N631', 'N324', 'N515', 'N417', 'N214',\n       'N59', 'N229', 'N366', 'N294', 'N281', 'N353', 'N61', 'N525',\n       'N352', 'N345', 'N794', 'N367', 'N632', 'N554', 'N811', 'N522',\n       'A35', 'N354', 'N250', 'N350', 'N384', 'N290', 'N732', 'N855',\n       'N456', 'N705', 'N393', 'A31', 'N757', 'N379', 'N374', 'N14',\n       'N415', 'A77', 'N304', 'N232', 'N508', 'N342', 'N527', 'N215',\n       'N318', 'N305', 'N798', 'N625', 'N285', 'N329', 'N733', 'N62',\n       'N372', 'N335', 'N756', 'N217', 'N323', 'N797', 'N707', 'N816',\n       'N831', 'N913', 'N308', 'N812', 'N276', 'N320', 'N862', 'N332',\n       'N496', 'N385', 'N674', 'N989', 'N740', 'N739', 'N248', 'N470',\n       'N378', 'N564', 'N620', 'N562', 'N980', 'N734', 'N322', 'N262',\n       'N301', 'N781', 'N362', 'N243', 'N284', 'N444', 'N616', 'N380',\n       'N520', 'N782', 'N969', 'N854', 'N488', 'N382', 'N286', 'N48',\n       'N979', 'N789', 'A18', 'N840', 'N928', 'N236', 'N317', 'A17',\n       'N744', 'N494', 'N764', 'N414', 'A348', 'N291', 'N910', 'N403',\n       'N995', 'N228', 'N498', 'N844', 'N266', 'N363', 'N397', 'N802',\n       'N760', 'N836', 'N373', 'N846', 'N618', 'A326', 'N661', 'N857',\n       'N288', 'N638', 'N268', 'N710', 'N805', 'N481', 'N356', 'N858',\n       'N252', 'N788', 'N254', 'N401', 'N222', 'A22', 'N199', 'N994',\n       'N389', 'N639', 'N521', 'N758', 'N459', 'N863', 'N786', 'N333',\n       'N755', 'N983', 'N446', 'N741', 'N2', 'N452', 'N853', 'N715',\n       'N963', 'N611', 'N272', 'N986', 'N394', 'N615', 'N458', 'N709',\n       'N257', 'N659', 'N834', 'N409', 'N997', 'N653', 'N513', 'N860',\n       'N472', 'N267', 'N447', 'N978', 'N392', 'N689', 'N801', 'N851',\n       'N612', 'N443', 'N475', 'N603', 'N762', 'N234', 'N796', 'N487',\n       'N293', 'N473', 'N216', 'N835', 'N383', 'N518', 'N491', 'N763',\n       'N313', 'N765', 'N386', 'N704', 'N972', 'N440', 'N847', 'N492',\n       'N810', 'N823', 'N495', 'N833', 'N480', 'N848', 'N339', 'N753',\n       'N852', 'N800', 'N566', 'N461', 'N556', 'N654', 'N841', 'N326',\n       'N637', 'N604', 'N924', 'N716', 'N238', 'N785', 'N814', 'N664',\n       'N595', 'N996', 'N510', 'N825', 'N404', 'N471', 'N761', 'N743',\n       'N981', 'N669', 'N617', 'A270', 'N787', 'N793', 'N666', 'A10',\n       'N412', 'N792', 'N449', 'N258', 'N992', 'Y351', 'N640', 'N560',\n       'N714', 'N198', 'N619', 'N239', 'N419', 'N736', 'N813', 'N312',\n       'N457', 'N441', 'N311', 'N605', 'N624', 'N670', 'N300', 'N962',\n       'N330', 'N552', 'N512', 'N327', 'N497', 'N463', 'N663', 'N451',\n       'N590', 'N598', 'N759', 'N964', 'N861', 'N822', 'N259', 'N827',\n       'N398', 'N462', 'N820', 'N966', 'N783', 'N752', 'N826', 'N819',\n       'N676', 'N856', 'N504', 'N602', 'N572', 'N662', 'N197', 'N614',\n       'A208', 'N613', 'N442', 'N667', 'N830', 'N507', 'N626', 'N680',\n       'N283', 'N584', 'N745', 'N295', 'N817', 'N460', 'N717', 'N453',\n       'N629', 'N368', 'N519', 'N824', 'N683', 'N790', 'N999', 'N668',\n       'N223', 'N255', 'N606', 'N987', 'N526', 'N845', 'N754', 'A74',\n       'N731', 'N387', 'N418', 'N865', 'N927', 'N675', 'N917', 'N411',\n       'N656', 'N413', 'N482', 'N655', 'N735', 'N976', 'N32', 'N806',\n       'N509', 'N464', 'N682', 'N591', 'N251', 'N365', 'N15', 'N287',\n       'N523', 'N514', 'N466', 'N818', 'N213', 'N832', 'N571', 'N708',\n       'N720', 'N742', 'N416', 'N690', 'N815', 'N60', 'N821', 'N622',\n       'N749', 'N468', 'N517', 'N489', 'N677', 'N671', 'N713', 'N467',\n       'A65', 'N405', 'N364', 'N390', 'A256', 'N621', 'N410', 'N402',\n       'N608', 'N791'], dtype=object)"
     },
     "execution_count": 12,
     "metadata": {},
     "output_type": "execute_result"
    }
   ],
   "source": [
    "df.wegnummer.unique()"
   ],
   "metadata": {
    "collapsed": false,
    "ExecuteTime": {
     "end_time": "2023-10-09T11:48:10.179822Z",
     "start_time": "2023-10-09T11:48:10.170637Z"
    }
   },
   "id": "2ddca4147436cb48"
  },
  {
   "cell_type": "code",
   "execution_count": null,
   "outputs": [],
   "source": [],
   "metadata": {
    "collapsed": false
   },
   "id": "f2e692c7e994eb8"
  }
 ],
 "metadata": {
  "kernelspec": {
   "display_name": "Python 3",
   "language": "python",
   "name": "python3"
  },
  "language_info": {
   "codemirror_mode": {
    "name": "ipython",
    "version": 2
   },
   "file_extension": ".py",
   "mimetype": "text/x-python",
   "name": "python",
   "nbconvert_exporter": "python",
   "pygments_lexer": "ipython2",
   "version": "2.7.6"
  }
 },
 "nbformat": 4,
 "nbformat_minor": 5
}
