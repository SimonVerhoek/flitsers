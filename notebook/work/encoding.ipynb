{
 "cells": [
  {
   "cell_type": "code",
   "execution_count": 1,
   "id": "a00dd13aa0b7656b",
   "metadata": {
    "collapsed": true,
    "ExecuteTime": {
     "end_time": "2023-10-03T10:10:07.197083Z",
     "start_time": "2023-10-03T10:10:06.809658Z"
    }
   },
   "outputs": [],
   "source": [
    "import dask.dataframe as dd\n",
    "\n",
    "from py.consts import DATA_DIR\n",
    "from py.utils import one_hot_encode\n",
    "\n",
    "\n",
    "initial_sample_size = 1000"
   ]
  },
  {
   "cell_type": "code",
   "execution_count": 2,
   "outputs": [
    {
     "data": {
      "text/plain": "      wegnummer   zijde      month        day  y\n39790      N240   beide      April     Monday  1\n91125       A28  rechts  September   Saturday  1\n14107      N196   beide   February    Tuesday  1\n46833      N278   beide  September  Wednesday  1\n25402      N257   beide      April  Wednesday  1",
      "text/html": "<div>\n<style scoped>\n    .dataframe tbody tr th:only-of-type {\n        vertical-align: middle;\n    }\n\n    .dataframe tbody tr th {\n        vertical-align: top;\n    }\n\n    .dataframe thead th {\n        text-align: right;\n    }\n</style>\n<table border=\"1\" class=\"dataframe\">\n  <thead>\n    <tr style=\"text-align: right;\">\n      <th></th>\n      <th>wegnummer</th>\n      <th>zijde</th>\n      <th>month</th>\n      <th>day</th>\n      <th>y</th>\n    </tr>\n  </thead>\n  <tbody>\n    <tr>\n      <th>39790</th>\n      <td>N240</td>\n      <td>beide</td>\n      <td>April</td>\n      <td>Monday</td>\n      <td>1</td>\n    </tr>\n    <tr>\n      <th>91125</th>\n      <td>A28</td>\n      <td>rechts</td>\n      <td>September</td>\n      <td>Saturday</td>\n      <td>1</td>\n    </tr>\n    <tr>\n      <th>14107</th>\n      <td>N196</td>\n      <td>beide</td>\n      <td>February</td>\n      <td>Tuesday</td>\n      <td>1</td>\n    </tr>\n    <tr>\n      <th>46833</th>\n      <td>N278</td>\n      <td>beide</td>\n      <td>September</td>\n      <td>Wednesday</td>\n      <td>1</td>\n    </tr>\n    <tr>\n      <th>25402</th>\n      <td>N257</td>\n      <td>beide</td>\n      <td>April</td>\n      <td>Wednesday</td>\n      <td>1</td>\n    </tr>\n  </tbody>\n</table>\n</div>"
     },
     "execution_count": 2,
     "metadata": {},
     "output_type": "execute_result"
    }
   ],
   "source": [
    "dataset = dd.read_parquet(DATA_DIR / \"prepared_1000.parquet\")\n",
    "dataset.head()"
   ],
   "metadata": {
    "collapsed": false,
    "ExecuteTime": {
     "end_time": "2023-10-03T10:10:07.406654Z",
     "start_time": "2023-10-03T10:10:07.198234Z"
    }
   },
   "id": "6d12f5011bd3c0fa"
  },
  {
   "cell_type": "code",
   "execution_count": 2,
   "outputs": [],
   "source": [],
   "metadata": {
    "collapsed": false,
    "ExecuteTime": {
     "end_time": "2023-10-03T10:10:07.406864Z",
     "start_time": "2023-10-03T10:10:07.397631Z"
    }
   },
   "id": "d91ee857c0b16adc"
  },
  {
   "cell_type": "code",
   "execution_count": 3,
   "outputs": [
    {
     "data": {
      "text/plain": "       y  zijde_beide  zijde_links  zijde_rechts  day_Friday  day_Monday  \\\n5      1            1            0             0           0           1   \n5      0            1            0             0           0           1   \n5      0            1            0             0           0           1   \n5      0            1            0             0           0           1   \n5      0            1            0             0           0           1   \n...   ..          ...          ...           ...         ...         ...   \n96501  0            0            0             1           0           1   \n96501  0            0            0             1           0           1   \n96501  0            0            0             1           0           1   \n96501  0            0            0             1           0           1   \n96501  0            0            0             1           0           1   \n\n       day_Saturday  day_Sunday  day_Thursday  day_Tuesday  ...  \\\n5                 0           0             0            0  ...   \n5                 0           0             0            0  ...   \n5                 0           0             0            0  ...   \n5                 0           0             0            0  ...   \n5                 0           0             0            0  ...   \n...             ...         ...           ...          ...  ...   \n96501             0           0             0            0  ...   \n96501             0           0             0            0  ...   \n96501             0           0             0            0  ...   \n96501             0           0             0            0  ...   \n96501             0           0             0            0  ...   \n\n       wegnummer_N848  wegnummer_N855  wegnummer_N857  wegnummer_N862  \\\n5                   0               0               0               0   \n5                   0               0               0               0   \n5                   0               0               0               0   \n5                   0               0               0               0   \n5                   0               0               0               0   \n...               ...             ...             ...             ...   \n96501               0               0               0               0   \n96501               0               0               0               0   \n96501               0               0               0               0   \n96501               0               0               0               0   \n96501               0               0               0               0   \n\n       wegnummer_N863  wegnummer_N9  wegnummer_N919  wegnummer_N980  \\\n5                   0             0               0               0   \n5                   0             0               0               0   \n5                   0             0               0               0   \n5                   0             0               0               0   \n5                   0             0               0               0   \n...               ...           ...             ...             ...   \n96501               0             0               0               0   \n96501               0             0               0               0   \n96501               0             0               0               0   \n96501               0             0               0               0   \n96501               0             0               0               0   \n\n       wegnummer_N99  wegnummer_Y351  \n5                  0               0  \n5                  0               0  \n5                  0               0  \n5                  0               0  \n5                  0               0  \n...              ...             ...  \n96501              0               0  \n96501              0               0  \n96501              0               0  \n96501              0               0  \n96501              0               0  \n\n[286419 rows x 292 columns]",
      "text/html": "<div>\n<style scoped>\n    .dataframe tbody tr th:only-of-type {\n        vertical-align: middle;\n    }\n\n    .dataframe tbody tr th {\n        vertical-align: top;\n    }\n\n    .dataframe thead th {\n        text-align: right;\n    }\n</style>\n<table border=\"1\" class=\"dataframe\">\n  <thead>\n    <tr style=\"text-align: right;\">\n      <th></th>\n      <th>y</th>\n      <th>zijde_beide</th>\n      <th>zijde_links</th>\n      <th>zijde_rechts</th>\n      <th>day_Friday</th>\n      <th>day_Monday</th>\n      <th>day_Saturday</th>\n      <th>day_Sunday</th>\n      <th>day_Thursday</th>\n      <th>day_Tuesday</th>\n      <th>...</th>\n      <th>wegnummer_N848</th>\n      <th>wegnummer_N855</th>\n      <th>wegnummer_N857</th>\n      <th>wegnummer_N862</th>\n      <th>wegnummer_N863</th>\n      <th>wegnummer_N9</th>\n      <th>wegnummer_N919</th>\n      <th>wegnummer_N980</th>\n      <th>wegnummer_N99</th>\n      <th>wegnummer_Y351</th>\n    </tr>\n  </thead>\n  <tbody>\n    <tr>\n      <th>5</th>\n      <td>1</td>\n      <td>1</td>\n      <td>0</td>\n      <td>0</td>\n      <td>0</td>\n      <td>1</td>\n      <td>0</td>\n      <td>0</td>\n      <td>0</td>\n      <td>0</td>\n      <td>...</td>\n      <td>0</td>\n      <td>0</td>\n      <td>0</td>\n      <td>0</td>\n      <td>0</td>\n      <td>0</td>\n      <td>0</td>\n      <td>0</td>\n      <td>0</td>\n      <td>0</td>\n    </tr>\n    <tr>\n      <th>5</th>\n      <td>0</td>\n      <td>1</td>\n      <td>0</td>\n      <td>0</td>\n      <td>0</td>\n      <td>1</td>\n      <td>0</td>\n      <td>0</td>\n      <td>0</td>\n      <td>0</td>\n      <td>...</td>\n      <td>0</td>\n      <td>0</td>\n      <td>0</td>\n      <td>0</td>\n      <td>0</td>\n      <td>0</td>\n      <td>0</td>\n      <td>0</td>\n      <td>0</td>\n      <td>0</td>\n    </tr>\n    <tr>\n      <th>5</th>\n      <td>0</td>\n      <td>1</td>\n      <td>0</td>\n      <td>0</td>\n      <td>0</td>\n      <td>1</td>\n      <td>0</td>\n      <td>0</td>\n      <td>0</td>\n      <td>0</td>\n      <td>...</td>\n      <td>0</td>\n      <td>0</td>\n      <td>0</td>\n      <td>0</td>\n      <td>0</td>\n      <td>0</td>\n      <td>0</td>\n      <td>0</td>\n      <td>0</td>\n      <td>0</td>\n    </tr>\n    <tr>\n      <th>5</th>\n      <td>0</td>\n      <td>1</td>\n      <td>0</td>\n      <td>0</td>\n      <td>0</td>\n      <td>1</td>\n      <td>0</td>\n      <td>0</td>\n      <td>0</td>\n      <td>0</td>\n      <td>...</td>\n      <td>0</td>\n      <td>0</td>\n      <td>0</td>\n      <td>0</td>\n      <td>0</td>\n      <td>0</td>\n      <td>0</td>\n      <td>0</td>\n      <td>0</td>\n      <td>0</td>\n    </tr>\n    <tr>\n      <th>5</th>\n      <td>0</td>\n      <td>1</td>\n      <td>0</td>\n      <td>0</td>\n      <td>0</td>\n      <td>1</td>\n      <td>0</td>\n      <td>0</td>\n      <td>0</td>\n      <td>0</td>\n      <td>...</td>\n      <td>0</td>\n      <td>0</td>\n      <td>0</td>\n      <td>0</td>\n      <td>0</td>\n      <td>0</td>\n      <td>0</td>\n      <td>0</td>\n      <td>0</td>\n      <td>0</td>\n    </tr>\n    <tr>\n      <th>...</th>\n      <td>...</td>\n      <td>...</td>\n      <td>...</td>\n      <td>...</td>\n      <td>...</td>\n      <td>...</td>\n      <td>...</td>\n      <td>...</td>\n      <td>...</td>\n      <td>...</td>\n      <td>...</td>\n      <td>...</td>\n      <td>...</td>\n      <td>...</td>\n      <td>...</td>\n      <td>...</td>\n      <td>...</td>\n      <td>...</td>\n      <td>...</td>\n      <td>...</td>\n      <td>...</td>\n    </tr>\n    <tr>\n      <th>96501</th>\n      <td>0</td>\n      <td>0</td>\n      <td>0</td>\n      <td>1</td>\n      <td>0</td>\n      <td>1</td>\n      <td>0</td>\n      <td>0</td>\n      <td>0</td>\n      <td>0</td>\n      <td>...</td>\n      <td>0</td>\n      <td>0</td>\n      <td>0</td>\n      <td>0</td>\n      <td>0</td>\n      <td>0</td>\n      <td>0</td>\n      <td>0</td>\n      <td>0</td>\n      <td>0</td>\n    </tr>\n    <tr>\n      <th>96501</th>\n      <td>0</td>\n      <td>0</td>\n      <td>0</td>\n      <td>1</td>\n      <td>0</td>\n      <td>1</td>\n      <td>0</td>\n      <td>0</td>\n      <td>0</td>\n      <td>0</td>\n      <td>...</td>\n      <td>0</td>\n      <td>0</td>\n      <td>0</td>\n      <td>0</td>\n      <td>0</td>\n      <td>0</td>\n      <td>0</td>\n      <td>0</td>\n      <td>0</td>\n      <td>0</td>\n    </tr>\n    <tr>\n      <th>96501</th>\n      <td>0</td>\n      <td>0</td>\n      <td>0</td>\n      <td>1</td>\n      <td>0</td>\n      <td>1</td>\n      <td>0</td>\n      <td>0</td>\n      <td>0</td>\n      <td>0</td>\n      <td>...</td>\n      <td>0</td>\n      <td>0</td>\n      <td>0</td>\n      <td>0</td>\n      <td>0</td>\n      <td>0</td>\n      <td>0</td>\n      <td>0</td>\n      <td>0</td>\n      <td>0</td>\n    </tr>\n    <tr>\n      <th>96501</th>\n      <td>0</td>\n      <td>0</td>\n      <td>0</td>\n      <td>1</td>\n      <td>0</td>\n      <td>1</td>\n      <td>0</td>\n      <td>0</td>\n      <td>0</td>\n      <td>0</td>\n      <td>...</td>\n      <td>0</td>\n      <td>0</td>\n      <td>0</td>\n      <td>0</td>\n      <td>0</td>\n      <td>0</td>\n      <td>0</td>\n      <td>0</td>\n      <td>0</td>\n      <td>0</td>\n    </tr>\n    <tr>\n      <th>96501</th>\n      <td>0</td>\n      <td>0</td>\n      <td>0</td>\n      <td>1</td>\n      <td>0</td>\n      <td>1</td>\n      <td>0</td>\n      <td>0</td>\n      <td>0</td>\n      <td>0</td>\n      <td>...</td>\n      <td>0</td>\n      <td>0</td>\n      <td>0</td>\n      <td>0</td>\n      <td>0</td>\n      <td>0</td>\n      <td>0</td>\n      <td>0</td>\n      <td>0</td>\n      <td>0</td>\n    </tr>\n  </tbody>\n</table>\n<p>286419 rows × 292 columns</p>\n</div>"
     },
     "execution_count": 3,
     "metadata": {},
     "output_type": "execute_result"
    }
   ],
   "source": [
    "dataset = one_hot_encode(df=dataset, column=\"zijde\", dtype=int)\n",
    "dataset = one_hot_encode(df=dataset, column=\"day\", dtype=int)\n",
    "dataset = one_hot_encode(df=dataset, column=\"month\", dtype=int)\n",
    "dataset = one_hot_encode(df=dataset, column=\"wegnummer\", dtype=int)\n",
    "# dataset = one_hot_encode(df=dataset, column=\"type_controle\")\n",
    "# dataset = one_hot_encode(df=dataset, column=\"hm_paal\")\n",
    "\n",
    "dataset.compute()"
   ],
   "metadata": {
    "collapsed": false,
    "ExecuteTime": {
     "end_time": "2023-10-03T10:10:11.712978Z",
     "start_time": "2023-10-03T10:10:09.559338Z"
    }
   },
   "id": "initial_id"
  },
  {
   "cell_type": "code",
   "execution_count": 5,
   "outputs": [],
   "source": [
    "dataset.to_parquet(DATA_DIR / f\"encoded_{initial_sample_size}.parquet\")"
   ],
   "metadata": {
    "collapsed": false,
    "ExecuteTime": {
     "end_time": "2023-10-03T10:11:15.398621Z",
     "start_time": "2023-10-03T10:11:13.665430Z"
    }
   },
   "id": "662935ed38ce87c5"
  }
 ],
 "metadata": {
  "kernelspec": {
   "display_name": "Python 3",
   "language": "python",
   "name": "python3"
  },
  "language_info": {
   "codemirror_mode": {
    "name": "ipython",
    "version": 2
   },
   "file_extension": ".py",
   "mimetype": "text/x-python",
   "name": "python",
   "nbconvert_exporter": "python",
   "pygments_lexer": "ipython2",
   "version": "2.7.6"
  }
 },
 "nbformat": 4,
 "nbformat_minor": 5
}
