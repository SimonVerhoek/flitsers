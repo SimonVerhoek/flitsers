{
 "cells": [
  {
   "cell_type": "code",
   "execution_count": 8,
   "id": "initial_id",
   "metadata": {
    "collapsed": true,
    "ExecuteTime": {
     "end_time": "2023-10-10T13:23:11.737971Z",
     "start_time": "2023-10-10T13:23:11.726401Z"
    }
   },
   "outputs": [],
   "source": [
    "import pickle\n",
    "from collections import OrderedDict\n",
    "from datetime import datetime, timedelta\n",
    "from itertools import product\n",
    "\n",
    "import dask\n",
    "import dask.dataframe as dd\n",
    "import numpy as np\n",
    "import pandas as pd\n",
    "\n",
    "from py.consts import HOURS_OF_DAY, MONTHS_OF_YEAR, SIDES, DAYS_OF_WEEK"
   ]
  },
  {
   "cell_type": "code",
   "execution_count": 9,
   "outputs": [],
   "source": [
    "df = pd.read_parquet(f\"../data/flitsers.parquet\")\n",
    "df.datum = pd.to_datetime(df.datum)\n",
    "all_roads = df.wegnummer.unique()\n",
    "all_years = df.datum.dt.year.unique()"
   ],
   "metadata": {
    "collapsed": false,
    "ExecuteTime": {
     "end_time": "2023-10-10T13:23:11.791001Z",
     "start_time": "2023-10-10T13:23:11.730850Z"
    }
   },
   "id": "e51b835169a258a6"
  },
  {
   "cell_type": "code",
   "execution_count": 10,
   "outputs": [
    {
     "name": "stdout",
     "output_type": "stream",
     "text": [
      "(483552, 3)\n",
      "   zijde wegnummer start_stop_hours\n",
      "0  links      N321           (0, 1)\n",
      "1  links      N321           (0, 2)\n",
      "2  links      N321           (0, 3)\n",
      "3  links      N321           (0, 4)\n",
      "4  links      N321           (0, 5)\n"
     ]
    }
   ],
   "source": [
    "# create prediction df\n",
    "\n",
    "\n",
    "tomorrow = datetime.now() + timedelta(days=1)\n",
    "tomorrow_day = tomorrow.strftime(\"%A\")\n",
    "tomorrow_month = tomorrow.strftime(\"%B\")\n",
    "tomorrow_year = tomorrow.strftime(\"%Y\")\n",
    "\n",
    "\n",
    "\n",
    "all_start_stop_hour_combinations = [(start, stop) for start in HOURS_OF_DAY for stop in HOURS_OF_DAY if start < stop]\n",
    "\n",
    "data = OrderedDict({\n",
    "    \"zijde\": SIDES,\n",
    "    # \"year\": all_years,\n",
    "    # \"month\": MONTHS_OF_YEAR,\n",
    "    # \"day\": DAYS_OF_WEEK,\n",
    "    \"wegnummer\": all_roads,\n",
    "    \"start_stop_hours\": all_start_stop_hour_combinations\n",
    "})\n",
    "\n",
    "cartesian_product = list(product(*data.values()))\n",
    "pred_tomorrow = pd.DataFrame.from_records(data=cartesian_product, columns=data.keys())\n",
    "\n",
    "\n",
    "# def compute_cartesian_chunk(chunk_size: int, list1_chunk, list2_chunk, list3_chunk, list4_chunk, list5_chunk, list6_chunk: list):\n",
    "#     cartesian_product_chunk = list(product(list1_chunk, list2_chunk, list3_chunk, list4_chunk, list5_chunk, list6_chunk))\n",
    "#     return pd.DataFrame(cartesian_product_chunk, columns=data.keys())\n",
    "# \n",
    "# # Set the chunk size (adjust this based on available memory)\n",
    "# chunk_size = 2\n",
    "# \n",
    "# # Partition each list into chunks\n",
    "# list1_partitions = [data[\"zijde\"][i:i+chunk_size] for i in range(0, len(data[\"zijde\"]), chunk_size)]\n",
    "# list2_partitions = [data[\"year\"] for _ in range(len(list1_partitions))]  # Keep list2 unchanged\n",
    "# list3_partitions = [data[\"month\"] for _ in range(len(list1_partitions))]  # Keep list3 unchanged\n",
    "# list4_partitions = [data[\"day\"] for _ in range(len(list1_partitions))]  # Keep list4 unchanged\n",
    "# list5_partitions = [data[\"wegnummer\"] for _ in range(len(list1_partitions))]  # Keep list5 unchanged\n",
    "# list6_partitions = [data[\"start_stop_hours\"] for _ in range(len(list1_partitions))]  # Keep list6 unchanged\n",
    "# \n",
    "# # Create Dask delayed objects for each chunk of the Cartesian product\n",
    "# delayed_results = [dask.delayed(compute_cartesian_chunk)(chunk_size, list1_chunk, list2_chunk, list3_chunk, list4_chunk, list5_chunk, list6_chunk)\n",
    "#                    for list1_chunk, list2_chunk, list3_chunk, list4_chunk, list5_chunk, list6_chunk in zip(list1_partitions, list2_partitions, list3_partitions, list4_partitions, list5_partitions, list6_partitions)]\n",
    "# \n",
    "# # Compute the Cartesian product in parallel while avoiding memory issues\n",
    "# results = dask.compute(*delayed_results)\n",
    "# \n",
    "# # Concatenate the results into a single Dask DataFrame\n",
    "# pred_tomorrow = dd.from_pandas(pd.concat(results, ignore_index=True), npartitions=1)\n",
    "\n",
    "print(pred_tomorrow.shape)\n",
    "print(pred_tomorrow.head())"
   ],
   "metadata": {
    "collapsed": false,
    "ExecuteTime": {
     "end_time": "2023-10-10T13:23:11.878396Z",
     "start_time": "2023-10-10T13:23:11.841934Z"
    }
   },
   "id": "69f3b20367d4ec04"
  },
  {
   "cell_type": "code",
   "execution_count": 11,
   "outputs": [],
   "source": [
    "pred_tomorrow[\"start_hour\"], pred_tomorrow[\"stop_hour\"] = zip(*pred_tomorrow.start_stop_hours)\n",
    "pred_tomorrow = pred_tomorrow.drop(\"start_stop_hours\", axis=1)"
   ],
   "metadata": {
    "collapsed": false,
    "ExecuteTime": {
     "end_time": "2023-10-10T13:23:12.308971Z",
     "start_time": "2023-10-10T13:23:12.182684Z"
    }
   },
   "id": "c88abf7f664843f"
  },
  {
   "cell_type": "code",
   "execution_count": 12,
   "outputs": [
    {
     "data": {
      "text/plain": "   zijde_links  zijde_rechts  wegnummer_A10  wegnummer_A12  wegnummer_A13  \\\n0            1             0              0              0              0   \n1            1             0              0              0              0   \n2            1             0              0              0              0   \n3            1             0              0              0              0   \n4            1             0              0              0              0   \n\n   wegnummer_A15  wegnummer_A16  wegnummer_A17  wegnummer_A18  wegnummer_A2  \\\n0              0              0              0              0             0   \n1              0              0              0              0             0   \n2              0              0              0              0             0   \n3              0              0              0              0             0   \n4              0              0              0              0             0   \n\n   ...  stop_hour_14  stop_hour_15  stop_hour_16  stop_hour_17  stop_hour_18  \\\n0  ...             0             0             0             0             0   \n1  ...             0             0             0             0             0   \n2  ...             0             0             0             0             0   \n3  ...             0             0             0             0             0   \n4  ...             0             0             0             0             0   \n\n   stop_hour_19  stop_hour_20  stop_hour_21  stop_hour_22  stop_hour_23  \n0             0             0             0             0             0  \n1             0             0             0             0             0  \n2             0             0             0             0             0  \n3             0             0             0             0             0  \n4             0             0             0             0             0  \n\n[5 rows x 629 columns]",
      "text/html": "<div>\n<style scoped>\n    .dataframe tbody tr th:only-of-type {\n        vertical-align: middle;\n    }\n\n    .dataframe tbody tr th {\n        vertical-align: top;\n    }\n\n    .dataframe thead th {\n        text-align: right;\n    }\n</style>\n<table border=\"1\" class=\"dataframe\">\n  <thead>\n    <tr style=\"text-align: right;\">\n      <th></th>\n      <th>zijde_links</th>\n      <th>zijde_rechts</th>\n      <th>wegnummer_A10</th>\n      <th>wegnummer_A12</th>\n      <th>wegnummer_A13</th>\n      <th>wegnummer_A15</th>\n      <th>wegnummer_A16</th>\n      <th>wegnummer_A17</th>\n      <th>wegnummer_A18</th>\n      <th>wegnummer_A2</th>\n      <th>...</th>\n      <th>stop_hour_14</th>\n      <th>stop_hour_15</th>\n      <th>stop_hour_16</th>\n      <th>stop_hour_17</th>\n      <th>stop_hour_18</th>\n      <th>stop_hour_19</th>\n      <th>stop_hour_20</th>\n      <th>stop_hour_21</th>\n      <th>stop_hour_22</th>\n      <th>stop_hour_23</th>\n    </tr>\n  </thead>\n  <tbody>\n    <tr>\n      <th>0</th>\n      <td>1</td>\n      <td>0</td>\n      <td>0</td>\n      <td>0</td>\n      <td>0</td>\n      <td>0</td>\n      <td>0</td>\n      <td>0</td>\n      <td>0</td>\n      <td>0</td>\n      <td>...</td>\n      <td>0</td>\n      <td>0</td>\n      <td>0</td>\n      <td>0</td>\n      <td>0</td>\n      <td>0</td>\n      <td>0</td>\n      <td>0</td>\n      <td>0</td>\n      <td>0</td>\n    </tr>\n    <tr>\n      <th>1</th>\n      <td>1</td>\n      <td>0</td>\n      <td>0</td>\n      <td>0</td>\n      <td>0</td>\n      <td>0</td>\n      <td>0</td>\n      <td>0</td>\n      <td>0</td>\n      <td>0</td>\n      <td>...</td>\n      <td>0</td>\n      <td>0</td>\n      <td>0</td>\n      <td>0</td>\n      <td>0</td>\n      <td>0</td>\n      <td>0</td>\n      <td>0</td>\n      <td>0</td>\n      <td>0</td>\n    </tr>\n    <tr>\n      <th>2</th>\n      <td>1</td>\n      <td>0</td>\n      <td>0</td>\n      <td>0</td>\n      <td>0</td>\n      <td>0</td>\n      <td>0</td>\n      <td>0</td>\n      <td>0</td>\n      <td>0</td>\n      <td>...</td>\n      <td>0</td>\n      <td>0</td>\n      <td>0</td>\n      <td>0</td>\n      <td>0</td>\n      <td>0</td>\n      <td>0</td>\n      <td>0</td>\n      <td>0</td>\n      <td>0</td>\n    </tr>\n    <tr>\n      <th>3</th>\n      <td>1</td>\n      <td>0</td>\n      <td>0</td>\n      <td>0</td>\n      <td>0</td>\n      <td>0</td>\n      <td>0</td>\n      <td>0</td>\n      <td>0</td>\n      <td>0</td>\n      <td>...</td>\n      <td>0</td>\n      <td>0</td>\n      <td>0</td>\n      <td>0</td>\n      <td>0</td>\n      <td>0</td>\n      <td>0</td>\n      <td>0</td>\n      <td>0</td>\n      <td>0</td>\n    </tr>\n    <tr>\n      <th>4</th>\n      <td>1</td>\n      <td>0</td>\n      <td>0</td>\n      <td>0</td>\n      <td>0</td>\n      <td>0</td>\n      <td>0</td>\n      <td>0</td>\n      <td>0</td>\n      <td>0</td>\n      <td>...</td>\n      <td>0</td>\n      <td>0</td>\n      <td>0</td>\n      <td>0</td>\n      <td>0</td>\n      <td>0</td>\n      <td>0</td>\n      <td>0</td>\n      <td>0</td>\n      <td>0</td>\n    </tr>\n  </tbody>\n</table>\n<p>5 rows × 629 columns</p>\n</div>"
     },
     "execution_count": 12,
     "metadata": {},
     "output_type": "execute_result"
    }
   ],
   "source": [
    "from py.utils import one_hot_encode_all\n",
    "\n",
    "\n",
    "ddf_pred_tomorrow = dd.from_pandas(pred_tomorrow, npartitions=3)\n",
    "ddf_pred_tomorrow = one_hot_encode_all(ddf=ddf_pred_tomorrow, columns=[\"zijde\", \"wegnummer\", \"start_hour\", \"stop_hour\"], dtype=int)\n",
    "\n",
    "ddf_pred_tomorrow.head()"
   ],
   "metadata": {
    "collapsed": false,
    "ExecuteTime": {
     "end_time": "2023-10-10T13:23:14.262796Z",
     "start_time": "2023-10-10T13:23:12.309673Z"
    }
   },
   "id": "bad5087c10dfb640"
  },
  {
   "cell_type": "code",
   "execution_count": 13,
   "outputs": [
    {
     "data": {
      "text/plain": "   zijde_links  zijde_rechts  wegnummer_A10  wegnummer_A12  wegnummer_A13  \\\n0            1             0              0              0              0   \n1            1             0              0              0              0   \n2            1             0              0              0              0   \n3            1             0              0              0              0   \n4            1             0              0              0              0   \n\n   wegnummer_A15  wegnummer_A16  wegnummer_A17  wegnummer_A18  wegnummer_A2  \\\n0              0              0              0              0             0   \n1              0              0              0              0             0   \n2              0              0              0              0             0   \n3              0              0              0              0             0   \n4              0              0              0              0             0   \n\n   ...  month_October  month_November  month_December  day_Monday  \\\n0  ...              1               0               0           0   \n1  ...              1               0               0           0   \n2  ...              1               0               0           0   \n3  ...              1               0               0           0   \n4  ...              1               0               0           0   \n\n   day_Tuesday  day_Wednesday  day_Thursday  day_Friday  day_Saturday  \\\n0            0              1             0           0             0   \n1            0              1             0           0             0   \n2            0              1             0           0             0   \n3            0              1             0           0             0   \n4            0              1             0           0             0   \n\n   day_Sunday  \n0           0  \n1           0  \n2           0  \n3           0  \n4           0  \n\n[5 rows x 648 columns]",
      "text/html": "<div>\n<style scoped>\n    .dataframe tbody tr th:only-of-type {\n        vertical-align: middle;\n    }\n\n    .dataframe tbody tr th {\n        vertical-align: top;\n    }\n\n    .dataframe thead th {\n        text-align: right;\n    }\n</style>\n<table border=\"1\" class=\"dataframe\">\n  <thead>\n    <tr style=\"text-align: right;\">\n      <th></th>\n      <th>zijde_links</th>\n      <th>zijde_rechts</th>\n      <th>wegnummer_A10</th>\n      <th>wegnummer_A12</th>\n      <th>wegnummer_A13</th>\n      <th>wegnummer_A15</th>\n      <th>wegnummer_A16</th>\n      <th>wegnummer_A17</th>\n      <th>wegnummer_A18</th>\n      <th>wegnummer_A2</th>\n      <th>...</th>\n      <th>month_October</th>\n      <th>month_November</th>\n      <th>month_December</th>\n      <th>day_Monday</th>\n      <th>day_Tuesday</th>\n      <th>day_Wednesday</th>\n      <th>day_Thursday</th>\n      <th>day_Friday</th>\n      <th>day_Saturday</th>\n      <th>day_Sunday</th>\n    </tr>\n  </thead>\n  <tbody>\n    <tr>\n      <th>0</th>\n      <td>1</td>\n      <td>0</td>\n      <td>0</td>\n      <td>0</td>\n      <td>0</td>\n      <td>0</td>\n      <td>0</td>\n      <td>0</td>\n      <td>0</td>\n      <td>0</td>\n      <td>...</td>\n      <td>1</td>\n      <td>0</td>\n      <td>0</td>\n      <td>0</td>\n      <td>0</td>\n      <td>1</td>\n      <td>0</td>\n      <td>0</td>\n      <td>0</td>\n      <td>0</td>\n    </tr>\n    <tr>\n      <th>1</th>\n      <td>1</td>\n      <td>0</td>\n      <td>0</td>\n      <td>0</td>\n      <td>0</td>\n      <td>0</td>\n      <td>0</td>\n      <td>0</td>\n      <td>0</td>\n      <td>0</td>\n      <td>...</td>\n      <td>1</td>\n      <td>0</td>\n      <td>0</td>\n      <td>0</td>\n      <td>0</td>\n      <td>1</td>\n      <td>0</td>\n      <td>0</td>\n      <td>0</td>\n      <td>0</td>\n    </tr>\n    <tr>\n      <th>2</th>\n      <td>1</td>\n      <td>0</td>\n      <td>0</td>\n      <td>0</td>\n      <td>0</td>\n      <td>0</td>\n      <td>0</td>\n      <td>0</td>\n      <td>0</td>\n      <td>0</td>\n      <td>...</td>\n      <td>1</td>\n      <td>0</td>\n      <td>0</td>\n      <td>0</td>\n      <td>0</td>\n      <td>1</td>\n      <td>0</td>\n      <td>0</td>\n      <td>0</td>\n      <td>0</td>\n    </tr>\n    <tr>\n      <th>3</th>\n      <td>1</td>\n      <td>0</td>\n      <td>0</td>\n      <td>0</td>\n      <td>0</td>\n      <td>0</td>\n      <td>0</td>\n      <td>0</td>\n      <td>0</td>\n      <td>0</td>\n      <td>...</td>\n      <td>1</td>\n      <td>0</td>\n      <td>0</td>\n      <td>0</td>\n      <td>0</td>\n      <td>1</td>\n      <td>0</td>\n      <td>0</td>\n      <td>0</td>\n      <td>0</td>\n    </tr>\n    <tr>\n      <th>4</th>\n      <td>1</td>\n      <td>0</td>\n      <td>0</td>\n      <td>0</td>\n      <td>0</td>\n      <td>0</td>\n      <td>0</td>\n      <td>0</td>\n      <td>0</td>\n      <td>0</td>\n      <td>...</td>\n      <td>1</td>\n      <td>0</td>\n      <td>0</td>\n      <td>0</td>\n      <td>0</td>\n      <td>1</td>\n      <td>0</td>\n      <td>0</td>\n      <td>0</td>\n      <td>0</td>\n    </tr>\n  </tbody>\n</table>\n<p>5 rows × 648 columns</p>\n</div>"
     },
     "execution_count": 13,
     "metadata": {},
     "output_type": "execute_result"
    }
   ],
   "source": [
    "# for year in all_years:\n",
    "#     y = 1 if year == tomorrow_year else 0\n",
    "#     ddf_pred_tomorrow[f\"year_{year}\"] = y\n",
    "    \n",
    "for month in MONTHS_OF_YEAR:\n",
    "    y = 1 if month == tomorrow_month else 0\n",
    "    ddf_pred_tomorrow[f\"month_{month}\"] = y\n",
    "    \n",
    "for day in DAYS_OF_WEEK:\n",
    "    y = 1 if day == tomorrow_day else 0\n",
    "    ddf_pred_tomorrow[f\"day_{day}\"] = y\n",
    "\n",
    "ddf_pred_tomorrow.head()"
   ],
   "metadata": {
    "collapsed": false,
    "ExecuteTime": {
     "end_time": "2023-10-10T13:23:17.103901Z",
     "start_time": "2023-10-10T13:23:14.262052Z"
    }
   },
   "id": "48cdaa3aaaac99f1"
  },
  {
   "cell_type": "code",
   "execution_count": 14,
   "outputs": [],
   "source": [
    "ddf_pred_tomorrow.to_parquet(f\"../data/prediction_preset.parquet\")"
   ],
   "metadata": {
    "collapsed": false,
    "ExecuteTime": {
     "end_time": "2023-10-10T13:23:23.231911Z",
     "start_time": "2023-10-10T13:23:17.103491Z"
    }
   },
   "id": "b70b740a6ca2f5e5"
  },
  {
   "cell_type": "code",
   "execution_count": 14,
   "outputs": [],
   "source": [],
   "metadata": {
    "collapsed": false,
    "ExecuteTime": {
     "end_time": "2023-10-10T13:23:23.232998Z",
     "start_time": "2023-10-10T13:23:23.231541Z"
    }
   },
   "id": "4075384e097ce2b7"
  }
 ],
 "metadata": {
  "kernelspec": {
   "display_name": "Python 3",
   "language": "python",
   "name": "python3"
  },
  "language_info": {
   "codemirror_mode": {
    "name": "ipython",
    "version": 2
   },
   "file_extension": ".py",
   "mimetype": "text/x-python",
   "name": "python",
   "nbconvert_exporter": "python",
   "pygments_lexer": "ipython2",
   "version": "2.7.6"
  }
 },
 "nbformat": 4,
 "nbformat_minor": 5
}
